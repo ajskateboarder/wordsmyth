{
 "cells": [
  {
   "cell_type": "code",
   "execution_count": 1,
   "metadata": {},
   "outputs": [],
   "source": [
    "import pandas as pd"
   ]
  },
  {
   "cell_type": "code",
   "execution_count": 3,
   "metadata": {},
   "outputs": [
    {
     "data": {
      "text/html": [
       "<div>\n",
       "<style scoped>\n",
       "    .dataframe tbody tr th:only-of-type {\n",
       "        vertical-align: middle;\n",
       "    }\n",
       "\n",
       "    .dataframe tbody tr th {\n",
       "        vertical-align: top;\n",
       "    }\n",
       "\n",
       "    .dataframe thead th {\n",
       "        text-align: right;\n",
       "    }\n",
       "</style>\n",
       "<table border=\"1\" class=\"dataframe\">\n",
       "  <thead>\n",
       "    <tr style=\"text-align: right;\">\n",
       "      <th></th>\n",
       "      <th>Unnamed: 0</th>\n",
       "      <th>text</th>\n",
       "      <th>sentiment</th>\n",
       "      <th>pos</th>\n",
       "      <th>neg</th>\n",
       "      <th>emojis</th>\n",
       "    </tr>\n",
       "  </thead>\n",
       "  <tbody>\n",
       "    <tr>\n",
       "      <th>0</th>\n",
       "      <td>0</td>\n",
       "      <td>i feel like if you built 1 small thing each st...</td>\n",
       "      <td>pos</td>\n",
       "      <td>0.477345</td>\n",
       "      <td>0.066799</td>\n",
       "      <td>:thumbsup:, :heartbeat:, :yellow_heart:, :blus...</td>\n",
       "    </tr>\n",
       "    <tr>\n",
       "      <th>1</th>\n",
       "      <td>1</td>\n",
       "      <td>yes me  too i hate that moment when I implemen...</td>\n",
       "      <td>neg</td>\n",
       "      <td>0.013431</td>\n",
       "      <td>0.896262</td>\n",
       "      <td>:sweat:, :sleeping:, :persevere:, :disappointe...</td>\n",
       "    </tr>\n",
       "    <tr>\n",
       "      <th>2</th>\n",
       "      <td>2</td>\n",
       "      <td>Valid points but… My goal is still to make Liv...</td>\n",
       "      <td>pos</td>\n",
       "      <td>0.925923</td>\n",
       "      <td>0.002489</td>\n",
       "      <td>:thumbsup:, :rage:, :v:, :angry:, :smile:</td>\n",
       "    </tr>\n",
       "    <tr>\n",
       "      <th>3</th>\n",
       "      <td>3</td>\n",
       "      <td>very late, but I think live coding can be good...</td>\n",
       "      <td>pos</td>\n",
       "      <td>0.907390</td>\n",
       "      <td>0.005947</td>\n",
       "      <td>:thumbsup:, :smile:, :wink:, :stuck_out_tongue...</td>\n",
       "    </tr>\n",
       "    <tr>\n",
       "      <th>4</th>\n",
       "      <td>4</td>\n",
       "      <td>Literally searched how to live stream in twitc...</td>\n",
       "      <td>pos</td>\n",
       "      <td>0.622434</td>\n",
       "      <td>0.023589</td>\n",
       "      <td>:raised_hands:, :ok_hand:, :thumbsup:, :clap:,...</td>\n",
       "    </tr>\n",
       "  </tbody>\n",
       "</table>\n",
       "</div>"
      ],
      "text/plain": [
       "   Unnamed: 0                                               text sentiment  \\\n",
       "0           0  i feel like if you built 1 small thing each st...       pos   \n",
       "1           1  yes me  too i hate that moment when I implemen...       neg   \n",
       "2           2  Valid points but… My goal is still to make Liv...       pos   \n",
       "3           3  very late, but I think live coding can be good...       pos   \n",
       "4           4  Literally searched how to live stream in twitc...       pos   \n",
       "\n",
       "        pos       neg                                             emojis  \n",
       "0  0.477345  0.066799  :thumbsup:, :heartbeat:, :yellow_heart:, :blus...  \n",
       "1  0.013431  0.896262  :sweat:, :sleeping:, :persevere:, :disappointe...  \n",
       "2  0.925923  0.002489          :thumbsup:, :rage:, :v:, :angry:, :smile:  \n",
       "3  0.907390  0.005947  :thumbsup:, :smile:, :wink:, :stuck_out_tongue...  \n",
       "4  0.622434  0.023589  :raised_hands:, :ok_hand:, :thumbsup:, :clap:,...  "
      ]
     },
     "execution_count": 3,
     "metadata": {},
     "output_type": "execute_result"
    }
   ],
   "source": [
    "df = pd.read_csv('../extracts.csv')\n",
    "df.head()"
   ]
  },
  {
   "cell_type": "code",
   "execution_count": 15,
   "metadata": {},
   "outputs": [],
   "source": [
    "texts = df[\"text\"].head().to_list()\n",
    "from collections import Counter\n",
    "merge = ' '.join([t.replace('  ', ' ') for t in texts])"
   ]
  },
  {
   "cell_type": "code",
   "execution_count": 27,
   "metadata": {},
   "outputs": [
    {
     "data": {
      "text/plain": [
       "1"
      ]
     },
     "execution_count": 27,
     "metadata": {},
     "output_type": "execute_result"
    }
   ],
   "source": [
    "counter = Counter([m.lower() for m in merge.split(\" \")])\n",
    "counter.get(\"agree\", [])"
   ]
  }
 ],
 "metadata": {
  "kernelspec": {
   "display_name": "Python 3.10.4 64-bit",
   "language": "python",
   "name": "python3"
  },
  "language_info": {
   "codemirror_mode": {
    "name": "ipython",
    "version": 3
   },
   "file_extension": ".py",
   "mimetype": "text/x-python",
   "name": "python",
   "nbconvert_exporter": "python",
   "pygments_lexer": "ipython3",
   "version": "3.10.4"
  },
  "orig_nbformat": 4,
  "vscode": {
   "interpreter": {
    "hash": "4f946df053fbf2b937619d3c5458e7af74262f9a954d8797ba0b27400bcafe06"
   }
  }
 },
 "nbformat": 4,
 "nbformat_minor": 2
}
