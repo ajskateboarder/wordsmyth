{
 "cells": [
  {
   "cell_type": "code",
   "execution_count": 1,
   "metadata": {},
   "outputs": [
    {
     "name": "stderr",
     "output_type": "stream",
     "text": [
      "/home/codespace/.local/lib/python3.10/site-packages/tqdm/auto.py:22: TqdmWarning: IProgress not found. Please update jupyter and ipywidgets. See https://ipywidgets.readthedocs.io/en/stable/user_install.html\n",
      "  from .autonotebook import tqdm as notebook_tqdm\n"
     ]
    },
    {
     "name": "stdout",
     "output_type": "stream",
     "text": [
      "2023-03-01 16:32:43,357 loading file /home/codespace/.flair/models/sentiment-en-mix-distillbert_4.pt\n",
      "weight path is: \n",
      "/workspaces/wordsmyth/wordsmyth/resources/pytorch_model.bin\n",
      "return attention is: \n",
      "False\n"
     ]
    }
   ],
   "source": [
    "from wordsmyth import Wordsmyth\n",
    "ws = Wordsmyth()"
   ]
  },
  {
   "cell_type": "code",
   "execution_count": 4,
   "metadata": {},
   "outputs": [
    {
     "name": "stdout",
     "output_type": "stream",
     "text": [
      "[\"This is terrible quality. Please don't buy without warranty\"]\n"
     ]
    },
    {
     "ename": "AttributeError",
     "evalue": "'NoneType' object has no attribute 'get'",
     "output_type": "error",
     "traceback": [
      "\u001b[0;31m---------------------------------------------------------------------------\u001b[0m",
      "\u001b[0;31mAttributeError\u001b[0m                            Traceback (most recent call last)",
      "Cell \u001b[0;32mIn[4], line 8\u001b[0m\n\u001b[1;32m      6\u001b[0m ratings \u001b[39m=\u001b[39m []\n\u001b[1;32m      7\u001b[0m \u001b[39mfor\u001b[39;00m output \u001b[39min\u001b[39;00m res:\n\u001b[0;32m----> 8\u001b[0m     ratings\u001b[39m.\u001b[39mappend(output\u001b[39m.\u001b[39;49mrate())\n\u001b[1;32m      9\u001b[0m \u001b[39mprint\u001b[39m(ratings)\n",
      "File \u001b[0;32m/workspaces/wordsmyth/wordsmyth/rate.py:41\u001b[0m, in \u001b[0;36mOutput.rate\u001b[0;34m(self)\u001b[0m\n\u001b[1;32m     39\u001b[0m     rate_map \u001b[39m=\u001b[39m json\u001b[39m.\u001b[39mload(emojimap)\n\u001b[1;32m     40\u001b[0m fixed \u001b[39m=\u001b[39m \u001b[39mself\u001b[39m\u001b[39m.\u001b[39m_fix_content()\n\u001b[0;32m---> 41\u001b[0m \u001b[39mreturn\u001b[39;00m rate(fixed, rate_map)\n",
      "File \u001b[0;32m/workspaces/wordsmyth/wordsmyth/utils.py:67\u001b[0m, in \u001b[0;36mrate\u001b[0;34m(text, emojimap)\u001b[0m\n\u001b[1;32m     64\u001b[0m \u001b[39mdef\u001b[39;00m \u001b[39mrate\u001b[39m(text: \u001b[39mdict\u001b[39m[\u001b[39mstr\u001b[39m, Any], emojimap: \u001b[39mlist\u001b[39m) \u001b[39m-\u001b[39m\u001b[39m>\u001b[39m Union[\u001b[39mint\u001b[39m, \u001b[39mfloat\u001b[39m]:\n\u001b[1;32m     65\u001b[0m     positive_emojis \u001b[39m=\u001b[39m [e \u001b[39mfor\u001b[39;00m e \u001b[39min\u001b[39;00m emojimap \u001b[39mif\u001b[39;00m e[\u001b[39m\"\u001b[39m\u001b[39msentiment\u001b[39m\u001b[39m\"\u001b[39m] \u001b[39m==\u001b[39m \u001b[39m\"\u001b[39m\u001b[39mpos\u001b[39m\u001b[39m\"\u001b[39m]\n\u001b[0;32m---> 67\u001b[0m     picked \u001b[39m=\u001b[39m [\n\u001b[1;32m     68\u001b[0m         e \u001b[39mfor\u001b[39;00m e \u001b[39min\u001b[39;00m emojimap \u001b[39mif\u001b[39;00m (text\u001b[39m.\u001b[39mget(\u001b[39m\"\u001b[39m\u001b[39mfixed\u001b[39m\u001b[39m\"\u001b[39m) \u001b[39mor\u001b[39;00m text\u001b[39m.\u001b[39mget(\u001b[39m\"\u001b[39m\u001b[39memoji\u001b[39m\u001b[39m\"\u001b[39m)) \u001b[39m==\u001b[39m e[\u001b[39m\"\u001b[39m\u001b[39mrepr\u001b[39m\u001b[39m\"\u001b[39m]\n\u001b[1;32m     69\u001b[0m     ][\u001b[39m0\u001b[39m]\n\u001b[1;32m     70\u001b[0m     score \u001b[39m=\u001b[39m np\u001b[39m.\u001b[39mmean([\u001b[39mfloat\u001b[39m(picked[\u001b[39m\"\u001b[39m\u001b[39mpos\u001b[39m\u001b[39m\"\u001b[39m]), \u001b[39mfloat\u001b[39m(picked[\u001b[39m\"\u001b[39m\u001b[39mneu\u001b[39m\u001b[39m\"\u001b[39m]), \u001b[39mfloat\u001b[39m(picked[\u001b[39m\"\u001b[39m\u001b[39mneg\u001b[39m\u001b[39m\"\u001b[39m])])\n\u001b[1;32m     71\u001b[0m     em_mean \u001b[39m=\u001b[39m np\u001b[39m.\u001b[39mmean(\n\u001b[1;32m     72\u001b[0m         [\u001b[39mfloat\u001b[39m(e[\u001b[39m\"\u001b[39m\u001b[39mscore\u001b[39m\u001b[39m\"\u001b[39m]) \u001b[39mfor\u001b[39;00m e \u001b[39min\u001b[39;00m emojimap \u001b[39mif\u001b[39;00m e[\u001b[39m\"\u001b[39m\u001b[39mrepr\u001b[39m\u001b[39m\"\u001b[39m] \u001b[39min\u001b[39;00m text[\u001b[39m\"\u001b[39m\u001b[39memojis\u001b[39m\u001b[39m\"\u001b[39m]]\n\u001b[1;32m     73\u001b[0m     )\n",
      "File \u001b[0;32m/workspaces/wordsmyth/wordsmyth/utils.py:68\u001b[0m, in \u001b[0;36m<listcomp>\u001b[0;34m(.0)\u001b[0m\n\u001b[1;32m     64\u001b[0m \u001b[39mdef\u001b[39;00m \u001b[39mrate\u001b[39m(text: \u001b[39mdict\u001b[39m[\u001b[39mstr\u001b[39m, Any], emojimap: \u001b[39mlist\u001b[39m) \u001b[39m-\u001b[39m\u001b[39m>\u001b[39m Union[\u001b[39mint\u001b[39m, \u001b[39mfloat\u001b[39m]:\n\u001b[1;32m     65\u001b[0m     positive_emojis \u001b[39m=\u001b[39m [e \u001b[39mfor\u001b[39;00m e \u001b[39min\u001b[39;00m emojimap \u001b[39mif\u001b[39;00m e[\u001b[39m\"\u001b[39m\u001b[39msentiment\u001b[39m\u001b[39m\"\u001b[39m] \u001b[39m==\u001b[39m \u001b[39m\"\u001b[39m\u001b[39mpos\u001b[39m\u001b[39m\"\u001b[39m]\n\u001b[1;32m     67\u001b[0m     picked \u001b[39m=\u001b[39m [\n\u001b[0;32m---> 68\u001b[0m         e \u001b[39mfor\u001b[39;00m e \u001b[39min\u001b[39;00m emojimap \u001b[39mif\u001b[39;00m (text\u001b[39m.\u001b[39;49mget(\u001b[39m\"\u001b[39m\u001b[39mfixed\u001b[39m\u001b[39m\"\u001b[39m) \u001b[39mor\u001b[39;00m text\u001b[39m.\u001b[39mget(\u001b[39m\"\u001b[39m\u001b[39memoji\u001b[39m\u001b[39m\"\u001b[39m)) \u001b[39m==\u001b[39m e[\u001b[39m\"\u001b[39m\u001b[39mrepr\u001b[39m\u001b[39m\"\u001b[39m]\n\u001b[1;32m     69\u001b[0m     ][\u001b[39m0\u001b[39m]\n\u001b[1;32m     70\u001b[0m     score \u001b[39m=\u001b[39m np\u001b[39m.\u001b[39mmean([\u001b[39mfloat\u001b[39m(picked[\u001b[39m\"\u001b[39m\u001b[39mpos\u001b[39m\u001b[39m\"\u001b[39m]), \u001b[39mfloat\u001b[39m(picked[\u001b[39m\"\u001b[39m\u001b[39mneu\u001b[39m\u001b[39m\"\u001b[39m]), \u001b[39mfloat\u001b[39m(picked[\u001b[39m\"\u001b[39m\u001b[39mneg\u001b[39m\u001b[39m\"\u001b[39m])])\n\u001b[1;32m     71\u001b[0m     em_mean \u001b[39m=\u001b[39m np\u001b[39m.\u001b[39mmean(\n\u001b[1;32m     72\u001b[0m         [\u001b[39mfloat\u001b[39m(e[\u001b[39m\"\u001b[39m\u001b[39mscore\u001b[39m\u001b[39m\"\u001b[39m]) \u001b[39mfor\u001b[39;00m e \u001b[39min\u001b[39;00m emojimap \u001b[39mif\u001b[39;00m e[\u001b[39m\"\u001b[39m\u001b[39mrepr\u001b[39m\u001b[39m\"\u001b[39m] \u001b[39min\u001b[39;00m text[\u001b[39m\"\u001b[39m\u001b[39memojis\u001b[39m\u001b[39m\"\u001b[39m]]\n\u001b[1;32m     73\u001b[0m     )\n",
      "\u001b[0;31mAttributeError\u001b[0m: 'NoneType' object has no attribute 'get'"
     ]
    }
   ],
   "source": [
    "import pandas as pd\n",
    "import random\n",
    "\n",
    "sample = random.choice(pd.read_json(\"../sample.json\")[\"reviewText\"].to_list())\n",
    "res = ws.eval(\"This is terrible quality. Please don't buy without warranty\", emojis=10)\n",
    "ratings = []\n",
    "for output in res:\n",
    "    ratings.append(output.rate())\n",
    "print(ratings)"
   ]
  }
 ],
 "metadata": {
  "kernelspec": {
   "display_name": "Python 3",
   "language": "python",
   "name": "python3"
  },
  "language_info": {
   "codemirror_mode": {
    "name": "ipython",
    "version": 3
   },
   "file_extension": ".py",
   "mimetype": "text/x-python",
   "name": "python",
   "nbconvert_exporter": "python",
   "pygments_lexer": "ipython3",
   "version": "3.10.4"
  },
  "orig_nbformat": 4,
  "vscode": {
   "interpreter": {
    "hash": "3ad933181bd8a04b432d3370b9dc3b0662ad032c4dfaa4e4f1596c548f763858"
   }
  }
 },
 "nbformat": 4,
 "nbformat_minor": 2
}
