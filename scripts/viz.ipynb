{
 "cells": [
  {
   "cell_type": "code",
   "execution_count": 23,
   "metadata": {},
   "outputs": [
    {
     "ename": "KeyError",
     "evalue": "'label.color is not a valid rc parameter (see rcParams.keys() for a list of valid parameters)'",
     "output_type": "error",
     "traceback": [
      "\u001b[0;31m---------------------------------------------------------------------------\u001b[0m",
      "\u001b[0;31mKeyError\u001b[0m                                  Traceback (most recent call last)",
      "File \u001b[0;32m~/Desktop/wordsmyth_minimal/venv/lib/python3.8/site-packages/matplotlib/__init__.py:716\u001b[0m, in \u001b[0;36mRcParams.__setitem__\u001b[0;34m(self, key, val)\u001b[0m\n\u001b[1;32m    715\u001b[0m \u001b[39mtry\u001b[39;00m:\n\u001b[0;32m--> 716\u001b[0m     cval \u001b[39m=\u001b[39m \u001b[39mself\u001b[39;49m\u001b[39m.\u001b[39;49mvalidate[key](val)\n\u001b[1;32m    717\u001b[0m \u001b[39mexcept\u001b[39;00m \u001b[39mValueError\u001b[39;00m \u001b[39mas\u001b[39;00m ve:\n",
      "\u001b[0;31mKeyError\u001b[0m: 'label.color'",
      "\nThe above exception was the direct cause of the following exception:\n",
      "\u001b[0;31mKeyError\u001b[0m                                  Traceback (most recent call last)",
      "Cell \u001b[0;32mIn[23], line 9\u001b[0m\n\u001b[1;32m      6\u001b[0m \u001b[39mwith\u001b[39;00m \u001b[39mopen\u001b[39m(\u001b[39m\"\u001b[39m\u001b[39m../data/reviews.pkl\u001b[39m\u001b[39m\"\u001b[39m, \u001b[39m\"\u001b[39m\u001b[39mrb\u001b[39m\u001b[39m\"\u001b[39m) \u001b[39mas\u001b[39;00m f:\n\u001b[1;32m      7\u001b[0m     df: pd\u001b[39m.\u001b[39mDataFrame \u001b[39m=\u001b[39m pickle\u001b[39m.\u001b[39mload(f)\n\u001b[0;32m----> 9\u001b[0m sns\u001b[39m.\u001b[39;49mset(rc\u001b[39m=\u001b[39;49m{\u001b[39m'\u001b[39;49m\u001b[39maxes.facecolor\u001b[39;49m\u001b[39m'\u001b[39;49m: \u001b[39m'\u001b[39;49m\u001b[39mblack\u001b[39;49m\u001b[39m'\u001b[39;49m, \u001b[39m'\u001b[39;49m\u001b[39mfigure.facecolor\u001b[39;49m\u001b[39m'\u001b[39;49m: \u001b[39m'\u001b[39;49m\u001b[39mblack\u001b[39;49m\u001b[39m'\u001b[39;49m, \u001b[39m'\u001b[39;49m\u001b[39mxtick.color\u001b[39;49m\u001b[39m'\u001b[39;49m: \u001b[39m'\u001b[39;49m\u001b[39mwhite\u001b[39;49m\u001b[39m'\u001b[39;49m, \u001b[39m'\u001b[39;49m\u001b[39mytick.color\u001b[39;49m\u001b[39m'\u001b[39;49m: \u001b[39m'\u001b[39;49m\u001b[39mwhite\u001b[39;49m\u001b[39m'\u001b[39;49m, \u001b[39m'\u001b[39;49m\u001b[39mgrid.color\u001b[39;49m\u001b[39m'\u001b[39;49m: \u001b[39m'\u001b[39;49m\u001b[39m#303030\u001b[39;49m\u001b[39m'\u001b[39;49m, \u001b[39m'\u001b[39;49m\u001b[39mlabel.color\u001b[39;49m\u001b[39m'\u001b[39;49m: \u001b[39m'\u001b[39;49m\u001b[39mwhite\u001b[39;49m\u001b[39m'\u001b[39;49m})\n\u001b[1;32m     11\u001b[0m g \u001b[39m=\u001b[39m sns\u001b[39m.\u001b[39mcatplot(df, x\u001b[39m=\u001b[39m\u001b[39m\"\u001b[39m\u001b[39moverall\u001b[39m\u001b[39m\"\u001b[39m, y\u001b[39m=\u001b[39m\u001b[39m\"\u001b[39m\u001b[39mrating\u001b[39m\u001b[39m\"\u001b[39m, palette\u001b[39m=\u001b[39m\u001b[39m\"\u001b[39m\u001b[39mpastel\u001b[39m\u001b[39m\"\u001b[39m, hue\u001b[39m=\u001b[39m\u001b[39m\"\u001b[39m\u001b[39moverall\u001b[39m\u001b[39m\"\u001b[39m) \\\n\u001b[1;32m     12\u001b[0m         \u001b[39m.\u001b[39mset_axis_labels(\u001b[39m\"\u001b[39m\u001b[39mActual rating\u001b[39m\u001b[39m\"\u001b[39m, \u001b[39m\"\u001b[39m\u001b[39mPredicted rating\u001b[39m\u001b[39m\"\u001b[39m) \\\n\u001b[1;32m     13\u001b[0m         \u001b[39m.\u001b[39mset(xlim\u001b[39m=\u001b[39m(\u001b[39m-\u001b[39m\u001b[39m1\u001b[39m, \u001b[39m5\u001b[39m), ylim\u001b[39m=\u001b[39m(\u001b[39m0\u001b[39m, \u001b[39m6\u001b[39m))\n",
      "File \u001b[0;32m~/Desktop/wordsmyth_minimal/venv/lib/python3.8/site-packages/seaborn/rcmod.py:132\u001b[0m, in \u001b[0;36mset\u001b[0;34m(*args, **kwargs)\u001b[0m\n\u001b[1;32m    126\u001b[0m \u001b[39mdef\u001b[39;00m \u001b[39mset\u001b[39m(\u001b[39m*\u001b[39margs, \u001b[39m*\u001b[39m\u001b[39m*\u001b[39mkwargs):\n\u001b[1;32m    127\u001b[0m \u001b[39m    \u001b[39m\u001b[39m\"\"\"\u001b[39;00m\n\u001b[1;32m    128\u001b[0m \u001b[39m    Alias for :func:`set_theme`, which is the preferred interface.\u001b[39;00m\n\u001b[1;32m    129\u001b[0m \n\u001b[1;32m    130\u001b[0m \u001b[39m    This function may be removed in the future.\u001b[39;00m\n\u001b[1;32m    131\u001b[0m \u001b[39m    \"\"\"\u001b[39;00m\n\u001b[0;32m--> 132\u001b[0m     set_theme(\u001b[39m*\u001b[39;49margs, \u001b[39m*\u001b[39;49m\u001b[39m*\u001b[39;49mkwargs)\n",
      "File \u001b[0;32m~/Desktop/wordsmyth_minimal/venv/lib/python3.8/site-packages/seaborn/rcmod.py:123\u001b[0m, in \u001b[0;36mset_theme\u001b[0;34m(context, style, palette, font, font_scale, color_codes, rc)\u001b[0m\n\u001b[1;32m    121\u001b[0m set_palette(palette, color_codes\u001b[39m=\u001b[39mcolor_codes)\n\u001b[1;32m    122\u001b[0m \u001b[39mif\u001b[39;00m rc \u001b[39mis\u001b[39;00m \u001b[39mnot\u001b[39;00m \u001b[39mNone\u001b[39;00m:\n\u001b[0;32m--> 123\u001b[0m     mpl\u001b[39m.\u001b[39;49mrcParams\u001b[39m.\u001b[39;49mupdate(rc)\n",
      "File \u001b[0;32m/usr/lib/python3.8/_collections_abc.py:832\u001b[0m, in \u001b[0;36mMutableMapping.update\u001b[0;34m(self, other, **kwds)\u001b[0m\n\u001b[1;32m    830\u001b[0m \u001b[39mif\u001b[39;00m \u001b[39misinstance\u001b[39m(other, Mapping):\n\u001b[1;32m    831\u001b[0m     \u001b[39mfor\u001b[39;00m key \u001b[39min\u001b[39;00m other:\n\u001b[0;32m--> 832\u001b[0m         \u001b[39mself\u001b[39;49m[key] \u001b[39m=\u001b[39m other[key]\n\u001b[1;32m    833\u001b[0m \u001b[39melif\u001b[39;00m \u001b[39mhasattr\u001b[39m(other, \u001b[39m\"\u001b[39m\u001b[39mkeys\u001b[39m\u001b[39m\"\u001b[39m):\n\u001b[1;32m    834\u001b[0m     \u001b[39mfor\u001b[39;00m key \u001b[39min\u001b[39;00m other\u001b[39m.\u001b[39mkeys():\n",
      "File \u001b[0;32m~/Desktop/wordsmyth_minimal/venv/lib/python3.8/site-packages/matplotlib/__init__.py:721\u001b[0m, in \u001b[0;36mRcParams.__setitem__\u001b[0;34m(self, key, val)\u001b[0m\n\u001b[1;32m    719\u001b[0m     \u001b[39mself\u001b[39m\u001b[39m.\u001b[39m_set(key, cval)\n\u001b[1;32m    720\u001b[0m \u001b[39mexcept\u001b[39;00m \u001b[39mKeyError\u001b[39;00m \u001b[39mas\u001b[39;00m err:\n\u001b[0;32m--> 721\u001b[0m     \u001b[39mraise\u001b[39;00m \u001b[39mKeyError\u001b[39;00m(\n\u001b[1;32m    722\u001b[0m         \u001b[39mf\u001b[39m\u001b[39m\"\u001b[39m\u001b[39m{\u001b[39;00mkey\u001b[39m}\u001b[39;00m\u001b[39m is not a valid rc parameter (see rcParams.keys() for \u001b[39m\u001b[39m\"\u001b[39m\n\u001b[1;32m    723\u001b[0m         \u001b[39mf\u001b[39m\u001b[39m\"\u001b[39m\u001b[39ma list of valid parameters)\u001b[39m\u001b[39m\"\u001b[39m) \u001b[39mfrom\u001b[39;00m \u001b[39merr\u001b[39;00m\n",
      "\u001b[0;31mKeyError\u001b[0m: 'label.color is not a valid rc parameter (see rcParams.keys() for a list of valid parameters)'"
     ]
    }
   ],
   "source": [
    "import seaborn as sns\n",
    "import matplotlib.pyplot as plt\n",
    "\n",
    "import pandas as pd\n",
    "import pickle\n",
    "print(plt.rcParams().keys())\n",
    "with open(\"../data/reviews.pkl\", \"rb\") as f:\n",
    "    df: pd.DataFrame = pickle.load(f)\n",
    "\n",
    "sns.set(rc={'axes.facecolor': 'black', 'figure.facecolor': 'black', 'xtick.color': 'white', 'ytick.color': 'white', 'grid.color': '#303030', 'label.color': 'white'})\n",
    "\n",
    "g = sns.catplot(df, x=\"overall\", y=\"rating\", palette=\"pastel\", hue=\"overall\") \\\n",
    "        .set_axis_labels(\"Actual rating\", \"Predicted rating\") \\\n",
    "        .set(xlim=(-1, 5), ylim=(0, 6))\n"
   ]
  }
 ],
 "metadata": {
  "kernelspec": {
   "display_name": "venv",
   "language": "python",
   "name": "python3"
  },
  "language_info": {
   "codemirror_mode": {
    "name": "ipython",
    "version": 3
   },
   "file_extension": ".py",
   "mimetype": "text/x-python",
   "name": "python",
   "nbconvert_exporter": "python",
   "pygments_lexer": "ipython3",
   "version": "3.8.10"
  },
  "orig_nbformat": 4,
  "vscode": {
   "interpreter": {
    "hash": "5d7d733bd045f78d1146dab88841cd4370d9771acb3d1480e5567765ef86ae5e"
   }
  }
 },
 "nbformat": 4,
 "nbformat_minor": 2
}
